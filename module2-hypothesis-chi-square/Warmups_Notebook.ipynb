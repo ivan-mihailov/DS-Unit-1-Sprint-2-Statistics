{
  "nbformat": 4,
  "nbformat_minor": 0,
  "metadata": {
    "colab": {
      "name": "Warmups Notebook.ipynb",
      "provenance": []
    },
    "kernelspec": {
      "name": "python3",
      "display_name": "Python 3"
    }
  },
  "cells": [
    {
      "cell_type": "markdown",
      "metadata": {
        "id": "u0XVGwjKBrYD"
      },
      "source": [
        "Contingency table below has two rows and five columns (not counting header rows/columns) and shows the results of a random sample of 2200 adults classified by two variables, namely gender and favorite way to eat ice cream (Larson and Farber 2014)"
      ]
    },
    {
      "cell_type": "code",
      "metadata": {
        "colab": {
          "base_uri": "https://localhost:8080/",
          "height": 111
        },
        "id": "wF3RxsdABf3d",
        "outputId": "b1ab3875-f3db-48a7-ef29-347d8937a817"
      },
      "source": [
        "import pandas as pd\r\n",
        "\r\n",
        "ice_cream = pd.DataFrame ({'gender' : ['male', 'female'],\r\n",
        "                           'cup' : [592, 410],\r\n",
        "                           'cone' : [300, 335],\r\n",
        "                           'sundae' : [204, 180],\r\n",
        "                           'sandwich' : [24, 20],\r\n",
        "                           'other' : [80, 55]}\r\n",
        "                          )\r\n",
        "\r\n",
        "ice_cream"
      ],
      "execution_count": null,
      "outputs": [
        {
          "output_type": "execute_result",
          "data": {
            "text/html": [
              "<div>\n",
              "<style scoped>\n",
              "    .dataframe tbody tr th:only-of-type {\n",
              "        vertical-align: middle;\n",
              "    }\n",
              "\n",
              "    .dataframe tbody tr th {\n",
              "        vertical-align: top;\n",
              "    }\n",
              "\n",
              "    .dataframe thead th {\n",
              "        text-align: right;\n",
              "    }\n",
              "</style>\n",
              "<table border=\"1\" class=\"dataframe\">\n",
              "  <thead>\n",
              "    <tr style=\"text-align: right;\">\n",
              "      <th></th>\n",
              "      <th>gender</th>\n",
              "      <th>cup</th>\n",
              "      <th>cone</th>\n",
              "      <th>sundae</th>\n",
              "      <th>sandwich</th>\n",
              "      <th>other</th>\n",
              "    </tr>\n",
              "  </thead>\n",
              "  <tbody>\n",
              "    <tr>\n",
              "      <th>0</th>\n",
              "      <td>male</td>\n",
              "      <td>592</td>\n",
              "      <td>300</td>\n",
              "      <td>204</td>\n",
              "      <td>24</td>\n",
              "      <td>80</td>\n",
              "    </tr>\n",
              "    <tr>\n",
              "      <th>1</th>\n",
              "      <td>female</td>\n",
              "      <td>410</td>\n",
              "      <td>335</td>\n",
              "      <td>180</td>\n",
              "      <td>20</td>\n",
              "      <td>55</td>\n",
              "    </tr>\n",
              "  </tbody>\n",
              "</table>\n",
              "</div>"
            ],
            "text/plain": [
              "   gender  cup  cone  sundae  sandwich  other\n",
              "0    male  592   300     204        24     80\n",
              "1  female  410   335     180        20     55"
            ]
          },
          "metadata": {
            "tags": []
          },
          "execution_count": 1
        }
      ]
    },
    {
      "cell_type": "code",
      "metadata": {
        "colab": {
          "base_uri": "https://localhost:8080/",
          "height": 142
        },
        "id": "RzJHIDyvDQEo",
        "outputId": "26588e5f-b089-4e95-8f8c-57fbfe879b24"
      },
      "source": [
        "#add totals column and row\r\n",
        "ice_cream.loc[:, 'Row Total'] = ice_cream.sum(numeric_only=True, axis=1)\r\n",
        "\r\n",
        "ice_cream.loc['Column Total'] = ice_cream.sum(numeric_only=True, axis=0)\r\n",
        "\r\n",
        "ice_cream"
      ],
      "execution_count": null,
      "outputs": [
        {
          "output_type": "execute_result",
          "data": {
            "text/html": [
              "<div>\n",
              "<style scoped>\n",
              "    .dataframe tbody tr th:only-of-type {\n",
              "        vertical-align: middle;\n",
              "    }\n",
              "\n",
              "    .dataframe tbody tr th {\n",
              "        vertical-align: top;\n",
              "    }\n",
              "\n",
              "    .dataframe thead th {\n",
              "        text-align: right;\n",
              "    }\n",
              "</style>\n",
              "<table border=\"1\" class=\"dataframe\">\n",
              "  <thead>\n",
              "    <tr style=\"text-align: right;\">\n",
              "      <th></th>\n",
              "      <th>gender</th>\n",
              "      <th>cup</th>\n",
              "      <th>cone</th>\n",
              "      <th>sundae</th>\n",
              "      <th>sandwich</th>\n",
              "      <th>other</th>\n",
              "      <th>Row Total</th>\n",
              "    </tr>\n",
              "  </thead>\n",
              "  <tbody>\n",
              "    <tr>\n",
              "      <th>0</th>\n",
              "      <td>male</td>\n",
              "      <td>592.0</td>\n",
              "      <td>300.0</td>\n",
              "      <td>204.0</td>\n",
              "      <td>24.0</td>\n",
              "      <td>80.0</td>\n",
              "      <td>1200.0</td>\n",
              "    </tr>\n",
              "    <tr>\n",
              "      <th>1</th>\n",
              "      <td>female</td>\n",
              "      <td>410.0</td>\n",
              "      <td>335.0</td>\n",
              "      <td>180.0</td>\n",
              "      <td>20.0</td>\n",
              "      <td>55.0</td>\n",
              "      <td>1000.0</td>\n",
              "    </tr>\n",
              "    <tr>\n",
              "      <th>Column Total</th>\n",
              "      <td>NaN</td>\n",
              "      <td>1002.0</td>\n",
              "      <td>635.0</td>\n",
              "      <td>384.0</td>\n",
              "      <td>44.0</td>\n",
              "      <td>135.0</td>\n",
              "      <td>2200.0</td>\n",
              "    </tr>\n",
              "  </tbody>\n",
              "</table>\n",
              "</div>"
            ],
            "text/plain": [
              "              gender     cup   cone  sundae  sandwich  other  Row Total\n",
              "0               male   592.0  300.0   204.0      24.0   80.0     1200.0\n",
              "1             female   410.0  335.0   180.0      20.0   55.0     1000.0\n",
              "Column Total     NaN  1002.0  635.0   384.0      44.0  135.0     2200.0"
            ]
          },
          "metadata": {
            "tags": []
          },
          "execution_count": 13
        }
      ]
    },
    {
      "cell_type": "code",
      "metadata": {
        "colab": {
          "base_uri": "https://localhost:8080/",
          "height": 111
        },
        "id": "htBolQt8HWXd",
        "outputId": "ff9eec57-b263-47ae-cf82-3882fea84c43"
      },
      "source": [
        "#expected values dataframe\r\n",
        "ice_cream_expected = pd.DataFrame ({'gender' : ['male', 'female'],\r\n",
        "                                    'cup_expected' :[((ice_cream['Row Total'][0] * ice_cream['cup']['Column Total']) / ice_cream['Row Total']['Column Total']), \r\n",
        "                                                      ((ice_cream['Row Total'][1] * ice_cream['cup']['Column Total']) / ice_cream['Row Total']['Column Total'])],\r\n",
        "                                    'cone_expected' :[((ice_cream['Row Total'][0] * ice_cream['cone']['Column Total']) / ice_cream['Row Total']['Column Total']), \r\n",
        "                                                      ((ice_cream['Row Total'][1] * ice_cream['cone']['Column Total']) / ice_cream['Row Total']['Column Total'])],\r\n",
        "                                    'sundae_expected' :[((ice_cream['Row Total'][0] * ice_cream['sundae']['Column Total']) / ice_cream['Row Total']['Column Total']), \r\n",
        "                                                      ((ice_cream['Row Total'][1] * ice_cream['sundae']['Column Total']) / ice_cream['Row Total']['Column Total'])],\r\n",
        "                                    'sandwich_expected' :[((ice_cream['Row Total'][0] * ice_cream['sandwich']['Column Total']) / ice_cream['Row Total']['Column Total']), \r\n",
        "                                                      ((ice_cream['Row Total'][1] * ice_cream['sandwich']['Column Total']) / ice_cream['Row Total']['Column Total'])],\r\n",
        "                                    'other_expected' :[((ice_cream['Row Total'][0] * ice_cream['other']['Column Total']) / ice_cream['Row Total']['Column Total']), \r\n",
        "                                                      ((ice_cream['Row Total'][1] * ice_cream['other']['Column Total']) / ice_cream['Row Total']['Column Total'])]                                  \r\n",
        "                                    }\r\n",
        "                                   )\r\n",
        "\r\n",
        "ice_cream_expected\r\n"
      ],
      "execution_count": null,
      "outputs": [
        {
          "output_type": "execute_result",
          "data": {
            "text/html": [
              "<div>\n",
              "<style scoped>\n",
              "    .dataframe tbody tr th:only-of-type {\n",
              "        vertical-align: middle;\n",
              "    }\n",
              "\n",
              "    .dataframe tbody tr th {\n",
              "        vertical-align: top;\n",
              "    }\n",
              "\n",
              "    .dataframe thead th {\n",
              "        text-align: right;\n",
              "    }\n",
              "</style>\n",
              "<table border=\"1\" class=\"dataframe\">\n",
              "  <thead>\n",
              "    <tr style=\"text-align: right;\">\n",
              "      <th></th>\n",
              "      <th>gender</th>\n",
              "      <th>cup_expected</th>\n",
              "      <th>cone_expected</th>\n",
              "      <th>sundae_expected</th>\n",
              "      <th>sandwich_expected</th>\n",
              "      <th>other_expected</th>\n",
              "    </tr>\n",
              "  </thead>\n",
              "  <tbody>\n",
              "    <tr>\n",
              "      <th>0</th>\n",
              "      <td>male</td>\n",
              "      <td>546.545455</td>\n",
              "      <td>346.363636</td>\n",
              "      <td>209.454545</td>\n",
              "      <td>24.0</td>\n",
              "      <td>73.636364</td>\n",
              "    </tr>\n",
              "    <tr>\n",
              "      <th>1</th>\n",
              "      <td>female</td>\n",
              "      <td>455.454545</td>\n",
              "      <td>288.636364</td>\n",
              "      <td>174.545455</td>\n",
              "      <td>20.0</td>\n",
              "      <td>61.363636</td>\n",
              "    </tr>\n",
              "  </tbody>\n",
              "</table>\n",
              "</div>"
            ],
            "text/plain": [
              "   gender  cup_expected  ...  sandwich_expected  other_expected\n",
              "0    male    546.545455  ...               24.0       73.636364\n",
              "1  female    455.454545  ...               20.0       61.363636\n",
              "\n",
              "[2 rows x 6 columns]"
            ]
          },
          "metadata": {
            "tags": []
          },
          "execution_count": 21
        }
      ]
    },
    {
      "cell_type": "code",
      "metadata": {
        "colab": {
          "base_uri": "https://localhost:8080/",
          "height": 111
        },
        "id": "-1JpsxVNPh-9",
        "outputId": "9618e643-2c23-4f0e-cb97-460b1a9cbc3e"
      },
      "source": [
        "#create chi-square table\r\n",
        "ice_cream_chi_sq = pd.DataFrame ({'gender' : ['male', 'female'],\r\n",
        "                                  'cup_chi_sq' : [(((ice_cream['cup'][0] - ice_cream_expected['cup_expected'][0]) ** 2) / ice_cream_expected['cup_expected'][0]),\r\n",
        "                                                  (((ice_cream['cup'][1] - ice_cream_expected['cup_expected'][1]) ** 2) / ice_cream_expected['cup_expected'][1])],\r\n",
        "                                  'cone_chi_sq' : [(((ice_cream['cone'][0] - ice_cream_expected['cone_expected'][0]) ** 2) / ice_cream_expected['cone_expected'][0]),\r\n",
        "                                                  (((ice_cream['cone'][1] - ice_cream_expected['cone_expected'][1]) ** 2) / ice_cream_expected['cone_expected'][1])],\r\n",
        "                                  'sundae_chi_sq' : [(((ice_cream['sundae'][0] - ice_cream_expected['sundae_expected'][0]) ** 2) / ice_cream_expected['sundae_expected'][0]),\r\n",
        "                                                  (((ice_cream['sundae'][1] - ice_cream_expected['sundae_expected'][1]) ** 2) / ice_cream_expected['sundae_expected'][1])],\r\n",
        "                                  'sandwich_chi_sq' : [(((ice_cream['sandwich'][0] - ice_cream_expected['sandwich_expected'][0]) ** 2) / ice_cream_expected['sandwich_expected'][0]),\r\n",
        "                                                  (((ice_cream['sandwich'][1] - ice_cream_expected['sandwich_expected'][1]) ** 2) / ice_cream_expected['sandwich_expected'][1])],\r\n",
        "                                  'other_chi_sq' : [(((ice_cream['other'][0] - ice_cream_expected['other_expected'][0]) ** 2) / ice_cream_expected['other_expected'][0]),\r\n",
        "                                                  (((ice_cream['other'][1] - ice_cream_expected['other_expected'][1]) ** 2) / ice_cream_expected['other_expected'][1])],\r\n",
        "                                  }\r\n",
        "                                 )\r\n",
        "\r\n",
        "ice_cream_chi_sq"
      ],
      "execution_count": null,
      "outputs": [
        {
          "output_type": "execute_result",
          "data": {
            "text/html": [
              "<div>\n",
              "<style scoped>\n",
              "    .dataframe tbody tr th:only-of-type {\n",
              "        vertical-align: middle;\n",
              "    }\n",
              "\n",
              "    .dataframe tbody tr th {\n",
              "        vertical-align: top;\n",
              "    }\n",
              "\n",
              "    .dataframe thead th {\n",
              "        text-align: right;\n",
              "    }\n",
              "</style>\n",
              "<table border=\"1\" class=\"dataframe\">\n",
              "  <thead>\n",
              "    <tr style=\"text-align: right;\">\n",
              "      <th></th>\n",
              "      <th>gender</th>\n",
              "      <th>cup_chi_sq</th>\n",
              "      <th>cone_chi_sq</th>\n",
              "      <th>sundae_chi_sq</th>\n",
              "      <th>sandwich_chi_sq</th>\n",
              "      <th>other_chi_sq</th>\n",
              "    </tr>\n",
              "  </thead>\n",
              "  <tbody>\n",
              "    <tr>\n",
              "      <th>0</th>\n",
              "      <td>male</td>\n",
              "      <td>3.780318</td>\n",
              "      <td>6.206156</td>\n",
              "      <td>0.142045</td>\n",
              "      <td>0.0</td>\n",
              "      <td>0.549944</td>\n",
              "    </tr>\n",
              "    <tr>\n",
              "      <th>1</th>\n",
              "      <td>female</td>\n",
              "      <td>4.536382</td>\n",
              "      <td>7.447387</td>\n",
              "      <td>0.170455</td>\n",
              "      <td>0.0</td>\n",
              "      <td>0.659933</td>\n",
              "    </tr>\n",
              "  </tbody>\n",
              "</table>\n",
              "</div>"
            ],
            "text/plain": [
              "   gender  cup_chi_sq  ...  sandwich_chi_sq  other_chi_sq\n",
              "0    male    3.780318  ...              0.0      0.549944\n",
              "1  female    4.536382  ...              0.0      0.659933\n",
              "\n",
              "[2 rows x 6 columns]"
            ]
          },
          "metadata": {
            "tags": []
          },
          "execution_count": 23
        }
      ]
    },
    {
      "cell_type": "code",
      "metadata": {
        "colab": {
          "base_uri": "https://localhost:8080/"
        },
        "id": "m8iH1NsMUrn4",
        "outputId": "b010d211-077a-4d71-81f6-df3964767833"
      },
      "source": [
        "#ice_cream_chi_sq.drop(labels='gender', axis=1, inplace=True)\r\n",
        "ice_cream_chi_sq.sum().sum()"
      ],
      "execution_count": null,
      "outputs": [
        {
          "output_type": "execute_result",
          "data": {
            "text/plain": [
              "23.4926197837629"
            ]
          },
          "metadata": {
            "tags": []
          },
          "execution_count": 35
        }
      ]
    },
    {
      "cell_type": "code",
      "metadata": {
        "colab": {
          "base_uri": "https://localhost:8080/"
        },
        "id": "n6FFg4tfYC_5",
        "outputId": "3f9f4bab-9410-4259-94ce-1e86364ff06f"
      },
      "source": [
        "# Import the libraries\r\n",
        "import numpy as np\r\n",
        "from scipy.stats import chi2_contingency\r\n",
        "\r\n",
        "# Create the table using as a NumPy array\r\n",
        "table = np.array([[200, 290], [400, 910]])\r\n",
        "\r\n",
        "# Print out the table to double-check\r\n",
        "print('Contingency table: \\n', table)\r\n",
        "\r\n",
        "# Perform the chi-square test\r\n",
        "stat, p, dof, expected = chi2_contingency(table, correction=False)\r\n",
        "\r\n",
        "# Print out the stats in a nice format\r\n",
        "print('Expected values: \\n ', expected.round(2))\r\n",
        "print(f'The chi square statistics is: {stat:.3f}')\r\n",
        "print(f'The p value is: {p:.6f}')"
      ],
      "execution_count": null,
      "outputs": [
        {
          "output_type": "stream",
          "text": [
            "Contingency table: \n",
            " [[200 290]\n",
            " [400 910]]\n",
            "Expected values: \n",
            "  [[163.33 326.67]\n",
            " [436.67 873.33]]\n",
            "The chi square statistics is: 16.965\n",
            "The p value is: 0.000038\n"
          ],
          "name": "stdout"
        }
      ]
    },
    {
      "cell_type": "code",
      "metadata": {
        "colab": {
          "base_uri": "https://localhost:8080/"
        },
        "id": "fVwXAyE8oVh1",
        "outputId": "3409cf2b-c37e-475e-dcea-4ae34ff0a5c7"
      },
      "source": [
        "# Import the libraries\r\n",
        "import numpy as np\r\n",
        "from scipy.stats import chi2_contingency\r\n",
        "\r\n",
        "# Create the table using as a NumPy array\r\n",
        "ice_cream2 = pd.DataFrame ({'cup' : [592, 410],\r\n",
        "                           'cone' : [300, 335],\r\n",
        "                           'sundae' : [204, 180],\r\n",
        "                           'sandwich' : [24, 20],\r\n",
        "                           'other' : [80, 55]}\r\n",
        "                          )\r\n",
        "\r\n",
        "# Print out the table to double-check\r\n",
        "print('Contingency table: \\n', ice_cream2)\r\n",
        "\r\n",
        "# Perform the chi-square test\r\n",
        "stat, p, dof, expected = chi2_contingency(ice_cream2, correction=False)\r\n",
        "\r\n",
        "# Print out the stats in a nice format\r\n",
        "print('Expected values: \\n ', expected.round(2))\r\n",
        "print(f'The chi square statistics is: {stat:.3f}')\r\n",
        "print(f'The p value is: {p:.6f}')"
      ],
      "execution_count": null,
      "outputs": [
        {
          "output_type": "stream",
          "text": [
            "Contingency table: \n",
            "    cup  cone  sundae  sandwich  other\n",
            "0  592   300     204        24     80\n",
            "1  410   335     180        20     55\n",
            "Expected values: \n",
            "  [[546.55 346.36 209.45  24.    73.64]\n",
            " [455.45 288.64 174.55  20.    61.36]]\n",
            "The chi square statistics is: 23.493\n",
            "The p value is: 0.000101\n"
          ],
          "name": "stdout"
        }
      ]
    },
    {
      "cell_type": "code",
      "metadata": {
        "colab": {
          "base_uri": "https://localhost:8080/"
        },
        "id": "eAebQ9lGpSuS",
        "outputId": "e44f013b-10e5-4fbf-c45b-432928c4f22c"
      },
      "source": [
        "# Import the libraries\r\n",
        "import numpy as np\r\n",
        "from scipy.stats import chi2_contingency\r\n",
        "\r\n",
        "# Create the table using as a NumPy array\r\n",
        "table1 = np.array([[49, 50, 69], [24, 36, 38], [19, 22, 28]])\r\n",
        "\r\n",
        "# Print out the table to double-check\r\n",
        "print('Contingency table: \\n', table1)\r\n",
        "\r\n",
        "# Perform the chi-square test\r\n",
        "stat, p, dof, expected = chi2_contingency(table1, correction=False)\r\n",
        "\r\n",
        "# Print out the stats in a nice format\r\n",
        "print('Expected values: \\n ', expected.round(2))\r\n",
        "print(f'The chi square statistics is: {stat:.3f}')\r\n",
        "print(f'The p value is: {p:.6f}')"
      ],
      "execution_count": null,
      "outputs": [
        {
          "output_type": "stream",
          "text": [
            "Contingency table: \n",
            " [[49 50 69]\n",
            " [24 36 38]\n",
            " [19 22 28]]\n",
            "Expected values: \n",
            "  [[46.14 54.16 67.7 ]\n",
            " [26.91 31.59 39.49]\n",
            " [18.95 22.24 27.81]]\n",
            "The chi square statistics is: 1.513\n",
            "The p value is: 0.824399\n"
          ],
          "name": "stdout"
        }
      ]
    },
    {
      "cell_type": "code",
      "metadata": {
        "id": "dpVMrwKguHC5"
      },
      "source": [
        "import numpy as np\r\n",
        "\r\n",
        "# Create the array for each die value\r\n",
        "a1 = [13, 7, 10, 5, 13]\r\n",
        "a2 = [5, 7, 4, 12, 9]\r\n",
        "a3 = [5, 9, 14, 0, 10]\r\n",
        "a4 = [12, 13, 8, 7, 7]\r\n",
        "a5 = [7, 10, 9, 13, 6]\r\n",
        "a6 = [8, 4, 5, 13, 5]\r\n",
        "\r\n",
        "# Combine them into a (6,5) array\r\n",
        "dice = np.array([a1, a2, a3, a4, a5, a6])"
      ],
      "execution_count": null,
      "outputs": []
    },
    {
      "cell_type": "code",
      "metadata": {
        "colab": {
          "base_uri": "https://localhost:8080/"
        },
        "id": "AkueCcoquJZa",
        "outputId": "58067b66-f942-4292-a459-dacd4fb627dd"
      },
      "source": [
        "# Import the stats module\r\n",
        "from scipy.stats import chi2_contingency\r\n",
        "\r\n",
        "# Perform the chi-square test\r\n",
        "stat, p, dof, expected = chi2_contingency(dice, correction=False)\r\n",
        "\r\n",
        "# Print out the stats in a nice format\r\n",
        "print('Expected values: \\n ', expected.round(2))\r\n",
        "print('The degrees of freedom: ', dof)\r\n",
        "print(f'The chi square statistics is: {stat:.3f}')\r\n",
        "print(f'The p value is: {p:.6f}')"
      ],
      "execution_count": null,
      "outputs": [
        {
          "output_type": "stream",
          "text": [
            "Expected values: \n",
            "  [[9.6 9.6 9.6 9.6 9.6]\n",
            " [7.4 7.4 7.4 7.4 7.4]\n",
            " [7.6 7.6 7.6 7.6 7.6]\n",
            " [9.4 9.4 9.4 9.4 9.4]\n",
            " [9.  9.  9.  9.  9. ]\n",
            " [7.  7.  7.  7.  7. ]]\n",
            "The degrees of freedom:  20\n",
            "The chi square statistics is: 40.375\n",
            "The p value is: 0.004477\n"
          ],
          "name": "stdout"
        }
      ]
    },
    {
      "cell_type": "code",
      "metadata": {
        "colab": {
          "base_uri": "https://localhost:8080/"
        },
        "id": "FuVVwmvk8J3O",
        "outputId": "24b7d6f9-e8e3-4786-fd62-8b420647570d"
      },
      "source": [
        "import numpy as np\r\n",
        "from scipy.stats import chisquare # One-way chi square test\r\n",
        "\r\n",
        "# Chi square can take any crosstab/table and test the independence of two rows/cols\r\n",
        "# The null hypothesis is that the rows/cols are independent --> low chi square\r\n",
        "# The alternative hypothesis is that there is a dependence --> high chi square\r\n",
        "# Be aware! Chi square does *not* tell you direction/causation\r\n",
        "\r\n",
        "ind_obs = np.array(([1, 1], [2, 2])).T\r\n",
        "print(ind_obs)\r\n",
        "print(chisquare(ind_obs, axis=None))\r\n",
        "\r\n",
        "dep_obs=np.array(([16, 18, 16, 14, 12, 12], [32, 24, 16, 28, 20, 24])).T\r\n",
        "print(dep_obs)\r\n",
        "print(chisquare(dep_obs, axis=None))"
      ],
      "execution_count": 5,
      "outputs": [
        {
          "output_type": "stream",
          "text": [
            "[[1 2]\n",
            " [1 2]]\n",
            "Power_divergenceResult(statistic=0.6666666666666666, pvalue=0.8810148425137847)\n",
            "[[16 32]\n",
            " [18 24]\n",
            " [16 16]\n",
            " [14 28]\n",
            " [12 20]\n",
            " [12 24]]\n",
            "Power_divergenceResult(statistic=23.31034482758621, pvalue=0.015975692534127565)\n"
          ],
          "name": "stdout"
        }
      ]
    },
    {
      "cell_type": "code",
      "metadata": {
        "colab": {
          "base_uri": "https://localhost:8080/"
        },
        "id": "tljmHhdNA-ff",
        "outputId": "f96920d5-b4fc-4e0e-d1a4-b6cfd3394737"
      },
      "source": [
        "# Distribution Tests:\r\n",
        "# We often assume that something is normal, but it can be important to *check*\r\n",
        "\r\n",
        "# For example, later on with predictive modeling, a typical assumption is that \r\n",
        "# residuals (prediction errors) are normal - checking is a good diagnostic\r\n",
        "\r\n",
        "from scipy.stats import normaltest\r\n",
        "# Poisson models arrival times and is related to the binomial (coinflip)\r\n",
        "sample = np.random.poisson (5, 1000)\r\n",
        "print(normaltest(sample)) # Pretty clearly not normal"
      ],
      "execution_count": 6,
      "outputs": [
        {
          "output_type": "stream",
          "text": [
            "NormaltestResult(statistic=21.175068996638082, pvalue=2.5228544195117452e-05)\n"
          ],
          "name": "stdout"
        }
      ]
    },
    {
      "cell_type": "code",
      "metadata": {
        "id": "IoYRolsDB_mx"
      },
      "source": [
        ""
      ],
      "execution_count": null,
      "outputs": []
    }
  ]
}